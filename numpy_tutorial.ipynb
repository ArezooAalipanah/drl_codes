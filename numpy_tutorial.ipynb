{
  "nbformat": 4,
  "nbformat_minor": 0,
  "metadata": {
    "colab": {
      "provenance": [],
      "authorship_tag": "ABX9TyN9UczBoV+zjXHHVamlDA6L",
      "include_colab_link": true
    },
    "kernelspec": {
      "name": "python3",
      "display_name": "Python 3"
    },
    "language_info": {
      "name": "python"
    }
  },
  "cells": [
    {
      "cell_type": "markdown",
      "metadata": {
        "id": "view-in-github",
        "colab_type": "text"
      },
      "source": [
        "<a href=\"https://colab.research.google.com/github/ArezooAalipanah/drl_codes/blob/master/numpy_tutorial.ipynb\" target=\"_parent\"><img src=\"https://colab.research.google.com/assets/colab-badge.svg\" alt=\"Open In Colab\"/></a>"
      ]
    },
    {
      "cell_type": "markdown",
      "source": [
        "# **Intro**\n",
        "What numpy does? it makes arrays of data (1D, 2D, 3D,...) so we can use these arrays.\n",
        "\n",
        "https://numpy.org/\n",
        "\n",
        "## point: why numpy?\n",
        "python itself has arrays and lists. why should we use numpy instead?\n",
        "0. mathematical computations are already supported in numpy. while it's harder to do it on lists.\n",
        "#### 1. its speed.\n",
        "#### 2. how it uses memory. \n",
        "\n",
        "when you make a list in python, say [1, 2, 3] for each element on the list a seperated object is created in the memory and it is saved. \n",
        "the list itself gets one seperated place and the objects have another. \n",
        "but in arrays (np arrays ) the array is a single object. \n",
        "This way reading from that array would also be much faster.\n",
        "( 28 bytes for every single object, eg.)"
      ],
      "metadata": {
        "id": "w0zugqNNEqCf"
      }
    },
    {
      "cell_type": "markdown",
      "source": [
        "# **Array**\n"
      ],
      "metadata": {
        "id": "gTF1kbCXNWKl"
      }
    },
    {
      "cell_type": "code",
      "execution_count": 1,
      "metadata": {
        "id": "4Z2gIijiD2Hr"
      },
      "outputs": [],
      "source": [
        "import numpy as np"
      ]
    },
    {
      "cell_type": "markdown",
      "source": [
        "in numpy there is only one type of data and that is array.\n",
        "every thing in numpy is done through arrays.\n",
        "\n",
        "https://numpy.org/doc/stable/reference/arrays.html\n",
        "\n",
        "Array objects\n",
        "NumPy provides an N-dimensional array type, the ndarray, which describes a collection of **“items” of the same type**. The items can be indexed using for example N integers.\n",
        "\n",
        "All ndarrays are homogeneous: every item takes up the same size block of memory, and all blocks are interpreted in exactly the same way. How each item in the array is to be interpreted is specified by a separate data-type object, one of which is associated with every array. In addition to basic types (integers, floats, etc.), the data type objects can also represent data structures.\n",
        "\n",
        "An item extracted from an array, e.g., by indexing, is represented by a Python object whose type is one of the array scalar types built in NumPy. The array scalars allow easy manipulation of also more complicated arrangements of data.\n",
        "\n",
        "\n",
        "**pay attention to the SAME TYPE**\n",
        "\n",
        "\n",
        "https://numpy.org/doc/stable/reference/generated/numpy.array.html\n",
        "\n",
        "numpy.array(object, dtype=None, *, copy=True, order='K', subok=False, ndmin=0, like=None)"
      ],
      "metadata": {
        "id": "pi24tZEHNsQe"
      }
    },
    {
      "cell_type": "code",
      "source": [
        "sample_array = np.array(1) # for adding the items you can put them inside  []\n",
        "sample_array2 = np.array([1, 2, 3])"
      ],
      "metadata": {
        "id": "JZml2KZONmGz"
      },
      "execution_count": 2,
      "outputs": []
    },
    {
      "cell_type": "code",
      "source": [
        "sample_array"
      ],
      "metadata": {
        "colab": {
          "base_uri": "https://localhost:8080/"
        },
        "id": "b2-jxKiJTJIm",
        "outputId": "cd5c48a6-3894-47b3-8d4b-2c35c01d9314"
      },
      "execution_count": 3,
      "outputs": [
        {
          "output_type": "execute_result",
          "data": {
            "text/plain": [
              "array(1)"
            ]
          },
          "metadata": {},
          "execution_count": 3
        }
      ]
    },
    {
      "cell_type": "code",
      "source": [
        "sample_array2"
      ],
      "metadata": {
        "colab": {
          "base_uri": "https://localhost:8080/"
        },
        "id": "8cvQJRIQS9PT",
        "outputId": "6d98f1c7-6d83-4ad3-bf02-3080a80a496c"
      },
      "execution_count": 4,
      "outputs": [
        {
          "output_type": "execute_result",
          "data": {
            "text/plain": [
              "array([1, 2, 3])"
            ]
          },
          "metadata": {},
          "execution_count": 4
        }
      ]
    },
    {
      "cell_type": "code",
      "source": [
        "type(sample_array2)"
      ],
      "metadata": {
        "colab": {
          "base_uri": "https://localhost:8080/"
        },
        "id": "KDHJhV3LTMPe",
        "outputId": "4a1561d0-66e1-4c7b-97ff-0be2b858912b"
      },
      "execution_count": 5,
      "outputs": [
        {
          "output_type": "execute_result",
          "data": {
            "text/plain": [
              "numpy.ndarray"
            ]
          },
          "metadata": {},
          "execution_count": 5
        }
      ]
    },
    {
      "cell_type": "code",
      "source": [
        "type(sample_array)"
      ],
      "metadata": {
        "colab": {
          "base_uri": "https://localhost:8080/"
        },
        "id": "xuQ5aASCTT2C",
        "outputId": "d97c467b-ed43-4d8e-9ba7-e9186b4f0f41"
      },
      "execution_count": 6,
      "outputs": [
        {
          "output_type": "execute_result",
          "data": {
            "text/plain": [
              "numpy.ndarray"
            ]
          },
          "metadata": {},
          "execution_count": 6
        }
      ]
    },
    {
      "cell_type": "code",
      "source": [
        "\"\"\"\n",
        "np.array([1, 2, 3]) is a 1D array, since it has no depth. \n",
        "how to se the dimension:\"\"\"\n",
        "sample_array2.ndim"
      ],
      "metadata": {
        "colab": {
          "base_uri": "https://localhost:8080/"
        },
        "id": "M6X3yVyXTb8M",
        "outputId": "ac4f20f7-e241-4814-9987-da95d6143291"
      },
      "execution_count": 7,
      "outputs": [
        {
          "output_type": "execute_result",
          "data": {
            "text/plain": [
              "1"
            ]
          },
          "metadata": {},
          "execution_count": 7
        }
      ]
    },
    {
      "cell_type": "code",
      "source": [
        "# let's add dimension by 1:\n",
        "s_array = np.array([\n",
        "    [1],\n",
        "    [2],\n",
        "    [3]\n",
        "])"
      ],
      "metadata": {
        "id": "WQnj25gWVBX2"
      },
      "execution_count": 8,
      "outputs": []
    },
    {
      "cell_type": "code",
      "source": [
        "s_array.ndim"
      ],
      "metadata": {
        "colab": {
          "base_uri": "https://localhost:8080/"
        },
        "id": "m92onXfWVQHs",
        "outputId": "d6afb983-216e-46db-b62d-94146e7c9658"
      },
      "execution_count": 9,
      "outputs": [
        {
          "output_type": "execute_result",
          "data": {
            "text/plain": [
              "2"
            ]
          },
          "metadata": {},
          "execution_count": 9
        }
      ]
    },
    {
      "cell_type": "code",
      "source": [
        "s_array2 = np.array([\n",
        "    [[1]],\n",
        "    [[2]]\n",
        "])"
      ],
      "metadata": {
        "id": "xXud2G8lVSVC"
      },
      "execution_count": 10,
      "outputs": []
    },
    {
      "cell_type": "code",
      "source": [
        "s_array2"
      ],
      "metadata": {
        "colab": {
          "base_uri": "https://localhost:8080/"
        },
        "id": "4Qe8aNEdVhOL",
        "outputId": "ded63912-f661-48d3-d263-c5a65512552f"
      },
      "execution_count": 11,
      "outputs": [
        {
          "output_type": "execute_result",
          "data": {
            "text/plain": [
              "array([[[1]],\n",
              "\n",
              "       [[2]]])"
            ]
          },
          "metadata": {},
          "execution_count": 11
        }
      ]
    },
    {
      "cell_type": "code",
      "source": [
        "s_array2.ndim\n"
      ],
      "metadata": {
        "colab": {
          "base_uri": "https://localhost:8080/"
        },
        "id": "5nE65wQaVjJr",
        "outputId": "60f35ad6-f61c-48ac-b719-1920a9308237"
      },
      "execution_count": 12,
      "outputs": [
        {
          "output_type": "execute_result",
          "data": {
            "text/plain": [
              "3"
            ]
          },
          "metadata": {},
          "execution_count": 12
        }
      ]
    },
    {
      "cell_type": "code",
      "source": [
        "# the dim is not the number of items, it's about the depth \n",
        "# how many times they are inside. []"
      ],
      "metadata": {
        "id": "D4qyj3DEVlHG"
      },
      "execution_count": 13,
      "outputs": []
    },
    {
      "cell_type": "code",
      "source": [
        "# if we don't add any bruckets and give a number directly it is a 0 dim array\n",
        "sample_array.ndim"
      ],
      "metadata": {
        "colab": {
          "base_uri": "https://localhost:8080/"
        },
        "id": "En0HylZtVx5F",
        "outputId": "786f43a4-a345-4d7a-d7b7-056f82919553"
      },
      "execution_count": 14,
      "outputs": [
        {
          "output_type": "execute_result",
          "data": {
            "text/plain": [
              "0"
            ]
          },
          "metadata": {},
          "execution_count": 14
        }
      ]
    },
    {
      "cell_type": "code",
      "source": [
        "\n",
        "# so the dim is all about the depth of the bruckets.\n",
        "s_array3 = np.array([\n",
        "    [1,2],\n",
        "    [2,3],\n",
        "    [3,4],\n",
        "    [4,4],\n",
        "    [5,0]\n",
        "])"
      ],
      "metadata": {
        "id": "u2wxIRoZWAjt"
      },
      "execution_count": 15,
      "outputs": []
    },
    {
      "cell_type": "code",
      "source": [
        "s_array3.ndim"
      ],
      "metadata": {
        "colab": {
          "base_uri": "https://localhost:8080/"
        },
        "id": "BU-E90WqWcAO",
        "outputId": "27a42dc5-907b-40cd-f679-b4154b4b76cd"
      },
      "execution_count": 16,
      "outputs": [
        {
          "output_type": "execute_result",
          "data": {
            "text/plain": [
              "2"
            ]
          },
          "metadata": {},
          "execution_count": 16
        }
      ]
    },
    {
      "cell_type": "code",
      "source": [
        "# now if wanna know about the items and how many they are we use shape\n",
        "s_array3.shape"
      ],
      "metadata": {
        "colab": {
          "base_uri": "https://localhost:8080/"
        },
        "id": "osHOdHt1Werh",
        "outputId": "b99faaf3-572d-4c60-a70e-1315755da2f6"
      },
      "execution_count": 17,
      "outputs": [
        {
          "output_type": "execute_result",
          "data": {
            "text/plain": [
              "(5, 2)"
            ]
          },
          "metadata": {},
          "execution_count": 17
        }
      ]
    },
    {
      "cell_type": "code",
      "source": [
        "s_array2.shape"
      ],
      "metadata": {
        "colab": {
          "base_uri": "https://localhost:8080/"
        },
        "id": "g9Jk_krPWrUy",
        "outputId": "c16d1f95-7cf4-4e8e-a7f2-ffaa160e44be"
      },
      "execution_count": 18,
      "outputs": [
        {
          "output_type": "execute_result",
          "data": {
            "text/plain": [
              "(2, 1, 1)"
            ]
          },
          "metadata": {},
          "execution_count": 18
        }
      ]
    },
    {
      "cell_type": "code",
      "source": [
        "# shape sbows the number of the rows and columns of that array\n",
        "s_array3\n",
        "# for example for this (5, 2) means it has 5 rows and 2 columns"
      ],
      "metadata": {
        "colab": {
          "base_uri": "https://localhost:8080/"
        },
        "id": "ByNA_g1zWwUr",
        "outputId": "cfe6d59a-ae26-4985-e1cf-ab8274a330f2"
      },
      "execution_count": 19,
      "outputs": [
        {
          "output_type": "execute_result",
          "data": {
            "text/plain": [
              "array([[1, 2],\n",
              "       [2, 3],\n",
              "       [3, 4],\n",
              "       [4, 4],\n",
              "       [5, 0]])"
            ]
          },
          "metadata": {},
          "execution_count": 19
        }
      ]
    },
    {
      "cell_type": "code",
      "source": [
        "# shape works based on dimensions or axis\n",
        "\"\"\" so in a 1D array we just have axis 0 : shape will send the number of items in axis 0\n",
        " in a 2D array axis 0 would count the rows and axis 1 counts the columns.\n",
        " same goes for more Ds \"\"\"\n",
        "s_array2"
      ],
      "metadata": {
        "id": "C0F69nRjXHNB",
        "colab": {
          "base_uri": "https://localhost:8080/"
        },
        "outputId": "0e2b3165-0aa8-447a-e69f-e3f6345ede7f"
      },
      "execution_count": 23,
      "outputs": [
        {
          "output_type": "execute_result",
          "data": {
            "text/plain": [
              "array([[[1]],\n",
              "\n",
              "       [[2]]])"
            ]
          },
          "metadata": {},
          "execution_count": 23
        }
      ]
    },
    {
      "cell_type": "code",
      "source": [
        "s_array2.shape"
      ],
      "metadata": {
        "colab": {
          "base_uri": "https://localhost:8080/"
        },
        "id": "fmJFkrd16tqm",
        "outputId": "0d35134b-de89-48f0-eec4-4b16f6489869"
      },
      "execution_count": 24,
      "outputs": [
        {
          "output_type": "execute_result",
          "data": {
            "text/plain": [
              "(2, 1, 1)"
            ]
          },
          "metadata": {},
          "execution_count": 24
        }
      ]
    },
    {
      "cell_type": "markdown",
      "source": [
        "https://numpy.org/doc/stable/reference/arrays.scalars.html\n",
        "\"same type\""
      ],
      "metadata": {
        "id": "RW7Xuk1-7_Ep"
      }
    },
    {
      "cell_type": "code",
      "source": [
        "# how can we assign the type in numpy?\n",
        "# You must do it when you are creating the array with dtype\n",
        "\n",
        "a = np.array([1, 2, 3])"
      ],
      "metadata": {
        "id": "WnkY3Fw_60Qp"
      },
      "execution_count": 25,
      "outputs": []
    },
    {
      "cell_type": "code",
      "source": [
        "# how to understand what is the dtype when it'a assigned by numpy itself\n",
        "a.dtype"
      ],
      "metadata": {
        "colab": {
          "base_uri": "https://localhost:8080/"
        },
        "id": "uyDePfVV-TsT",
        "outputId": "5ddf530c-1fc3-4f37-eb2b-6341fa960b91"
      },
      "execution_count": 27,
      "outputs": [
        {
          "output_type": "execute_result",
          "data": {
            "text/plain": [
              "dtype('int64')"
            ]
          },
          "metadata": {},
          "execution_count": 27
        }
      ]
    },
    {
      "cell_type": "code",
      "source": [
        "# you can assign other dtypes by your own:\n",
        "a = np.array([1, 2, 3], dtype=np.uint8)"
      ],
      "metadata": {
        "id": "NV32ZtYQ-WEj"
      },
      "execution_count": 28,
      "outputs": []
    },
    {
      "cell_type": "markdown",
      "source": [
        "u for unsigned\n",
        "and 8 for numbers between 0 and 255"
      ],
      "metadata": {
        "id": "Ui0dgnDS-1q2"
      }
    },
    {
      "cell_type": "code",
      "source": [
        "a.dtype\n"
      ],
      "metadata": {
        "colab": {
          "base_uri": "https://localhost:8080/"
        },
        "id": "mtG0bYhg-xJf",
        "outputId": "7a58eaa5-6633-46e5-e026-95df83f9dfc5"
      },
      "execution_count": 30,
      "outputs": [
        {
          "output_type": "execute_result",
          "data": {
            "text/plain": [
              "dtype('uint8')"
            ]
          },
          "metadata": {},
          "execution_count": 30
        }
      ]
    },
    {
      "cell_type": "markdown",
      "source": [
        "## **Atrributes**"
      ],
      "metadata": {
        "id": "luhhw45Y_Dlh"
      }
    },
    {
      "cell_type": "markdown",
      "source": [
        "some methods of numpy. basically they are some actions you can do with different arrays.\n",
        "check the list :\n",
        "https://numpy.org/doc/stable/reference/generated/numpy.copy.html"
      ],
      "metadata": {
        "id": "0GzHhvym_PEG"
      }
    },
    {
      "cell_type": "code",
      "source": [
        "arry = np.array([[1,2,3],\n",
        "                 [4,5,6],\n",
        "                 [7,8,9]])"
      ],
      "metadata": {
        "id": "KxmNTs1--yul"
      },
      "execution_count": 31,
      "outputs": []
    },
    {
      "cell_type": "code",
      "source": [
        "# size counts to see how many elements are in an array\n",
        "arry.size"
      ],
      "metadata": {
        "colab": {
          "base_uri": "https://localhost:8080/"
        },
        "id": "ZHr242_g_vfS",
        "outputId": "22820272-34e4-460d-9692-4f53ba1dc655"
      },
      "execution_count": 32,
      "outputs": [
        {
          "output_type": "execute_result",
          "data": {
            "text/plain": [
              "9"
            ]
          },
          "metadata": {},
          "execution_count": 32
        }
      ]
    },
    {
      "cell_type": "code",
      "source": [
        "arry.shape"
      ],
      "metadata": {
        "colab": {
          "base_uri": "https://localhost:8080/"
        },
        "id": "0kDP_VA3_-As",
        "outputId": "d086fb04-a365-41be-b532-a693f5ce83ea"
      },
      "execution_count": 33,
      "outputs": [
        {
          "output_type": "execute_result",
          "data": {
            "text/plain": [
              "(3, 3)"
            ]
          },
          "metadata": {},
          "execution_count": 33
        }
      ]
    },
    {
      "cell_type": "code",
      "source": [
        "#1.reshape\n",
        "#  now there is a method called reshape. using it you can change the shape of your array\n",
        "# pay attention that you should reshape it in a way that the size says the same(makes sense)\n",
        "# a 3,3 for example can be a 9,1 or a 1,9 ,..."
      ],
      "metadata": {
        "id": "K7p0P9_jANnA"
      },
      "execution_count": 34,
      "outputs": []
    },
    {
      "cell_type": "code",
      "source": [
        "arry.reshape(1,9)"
      ],
      "metadata": {
        "colab": {
          "base_uri": "https://localhost:8080/"
        },
        "id": "_y9C9TypAptf",
        "outputId": "46d08fd1-8210-4309-93ce-9ab3afde220a"
      },
      "execution_count": 36,
      "outputs": [
        {
          "output_type": "execute_result",
          "data": {
            "text/plain": [
              "array([[1, 2, 3, 4, 5, 6, 7, 8, 9]])"
            ]
          },
          "metadata": {},
          "execution_count": 36
        }
      ]
    },
    {
      "cell_type": "code",
      "source": [
        "arry.reshape(9,1)"
      ],
      "metadata": {
        "colab": {
          "base_uri": "https://localhost:8080/"
        },
        "id": "enCZUOK1AyGb",
        "outputId": "c50cf629-9146-4208-80fd-2efeb531a3ad"
      },
      "execution_count": 37,
      "outputs": [
        {
          "output_type": "execute_result",
          "data": {
            "text/plain": [
              "array([[1],\n",
              "       [2],\n",
              "       [3],\n",
              "       [4],\n",
              "       [5],\n",
              "       [6],\n",
              "       [7],\n",
              "       [8],\n",
              "       [9]])"
            ]
          },
          "metadata": {},
          "execution_count": 37
        }
      ]
    },
    {
      "cell_type": "code",
      "source": [
        "arry.reshape(3,-1)"
      ],
      "metadata": {
        "colab": {
          "base_uri": "https://localhost:8080/"
        },
        "id": "mj5fqHliA3b-",
        "outputId": "325626f4-874e-4bf5-bfd9-9c01005b941b"
      },
      "execution_count": 39,
      "outputs": [
        {
          "output_type": "execute_result",
          "data": {
            "text/plain": [
              "array([[1, 2, 3],\n",
              "       [4, 5, 6],\n",
              "       [7, 8, 9]])"
            ]
          },
          "metadata": {},
          "execution_count": 39
        }
      ]
    },
    {
      "cell_type": "code",
      "source": [
        "arry.reshape(2,-1) # but this one gives an error"
      ],
      "metadata": {
        "colab": {
          "base_uri": "https://localhost:8080/",
          "height": 165
        },
        "id": "d-yHrJdkA6Md",
        "outputId": "0c4f020f-fc5f-4565-d312-53c5c6e9341c"
      },
      "execution_count": 41,
      "outputs": [
        {
          "output_type": "error",
          "ename": "ValueError",
          "evalue": "ignored",
          "traceback": [
            "\u001b[0;31m---------------------------------------------------------------------------\u001b[0m",
            "\u001b[0;31mValueError\u001b[0m                                Traceback (most recent call last)",
            "\u001b[0;32m<ipython-input-41-cf5f4f5289d3>\u001b[0m in \u001b[0;36m<cell line: 1>\u001b[0;34m()\u001b[0m\n\u001b[0;32m----> 1\u001b[0;31m \u001b[0marry\u001b[0m\u001b[0;34m.\u001b[0m\u001b[0mreshape\u001b[0m\u001b[0;34m(\u001b[0m\u001b[0;36m2\u001b[0m\u001b[0;34m,\u001b[0m\u001b[0;34m-\u001b[0m\u001b[0;36m1\u001b[0m\u001b[0;34m)\u001b[0m \u001b[0;31m# but this one gives an error\u001b[0m\u001b[0;34m\u001b[0m\u001b[0;34m\u001b[0m\u001b[0m\n\u001b[0m",
            "\u001b[0;31mValueError\u001b[0m: cannot reshape array of size 9 into shape (2,newaxis)"
          ]
        }
      ]
    },
    {
      "cell_type": "code",
      "source": [
        "new_ar= arry.reshape(-1)"
      ],
      "metadata": {
        "id": "_nwOJFskBAvJ"
      },
      "execution_count": 43,
      "outputs": []
    },
    {
      "cell_type": "code",
      "source": [
        "new_ar.shape"
      ],
      "metadata": {
        "colab": {
          "base_uri": "https://localhost:8080/"
        },
        "id": "L5dIrawXBP4v",
        "outputId": "4fb72c35-61a0-4bb6-e87e-1b0f2ae08eb9"
      },
      "execution_count": 44,
      "outputs": [
        {
          "output_type": "execute_result",
          "data": {
            "text/plain": [
              "(9,)"
            ]
          },
          "metadata": {},
          "execution_count": 44
        }
      ]
    },
    {
      "cell_type": "code",
      "source": [
        "#2. slice\n"
      ],
      "metadata": {
        "id": "3FnW9mJGBiP_"
      },
      "execution_count": null,
      "outputs": []
    }
  ]
}