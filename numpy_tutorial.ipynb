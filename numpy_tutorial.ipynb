{
  "nbformat": 4,
  "nbformat_minor": 0,
  "metadata": {
    "colab": {
      "provenance": [],
      "authorship_tag": "ABX9TyPAMjAYdQ+q7L4t4Ueckl1y",
      "include_colab_link": true
    },
    "kernelspec": {
      "name": "python3",
      "display_name": "Python 3"
    },
    "language_info": {
      "name": "python"
    }
  },
  "cells": [
    {
      "cell_type": "markdown",
      "metadata": {
        "id": "view-in-github",
        "colab_type": "text"
      },
      "source": [
        "<a href=\"https://colab.research.google.com/github/ArezooAalipanah/drl_codes/blob/master/numpy_tutorial.ipynb\" target=\"_parent\"><img src=\"https://colab.research.google.com/assets/colab-badge.svg\" alt=\"Open In Colab\"/></a>"
      ]
    },
    {
      "cell_type": "markdown",
      "source": [
        "# **Intro**\n",
        "What numpy does? it makes arrays of data (1D, 2D, 3D,...) so we can use these arrays.\n",
        "\n",
        "https://numpy.org/\n",
        "\n",
        "## point: why numpy?\n",
        "python itself has arrays and lists. why should we use numpy instead?\n",
        "0. mathematical computations are already supported in numpy. while it's harder to do it on lists.\n",
        "#### 1. its speed.\n",
        "#### 2. how it uses memory. \n",
        "\n",
        "when you make a list in python, say [1, 2, 3] for each element on the list a seperated object is created in the memory and it is saved. \n",
        "the list itself gets one seperated place and the objects have another. \n",
        "but in arrays (np arrays ) the array is a single object. \n",
        "This way reading from that array would also be much faster.\n",
        "( 28 bytes for every single object, eg.)"
      ],
      "metadata": {
        "id": "w0zugqNNEqCf"
      }
    },
    {
      "cell_type": "markdown",
      "source": [
        "# **Array**\n"
      ],
      "metadata": {
        "id": "gTF1kbCXNWKl"
      }
    },
    {
      "cell_type": "code",
      "execution_count": 1,
      "metadata": {
        "id": "4Z2gIijiD2Hr"
      },
      "outputs": [],
      "source": [
        "import numpy as np"
      ]
    },
    {
      "cell_type": "markdown",
      "source": [
        "in numpy there is only one type of data and that is array.\n",
        "every thing in numpy is done through arrays.\n"
      ],
      "metadata": {
        "id": "pi24tZEHNsQe"
      }
    },
    {
      "cell_type": "code",
      "source": [],
      "metadata": {
        "id": "JZml2KZONmGz"
      },
      "execution_count": null,
      "outputs": []
    }
  ]
}