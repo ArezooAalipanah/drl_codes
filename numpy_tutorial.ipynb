{
  "nbformat": 4,
  "nbformat_minor": 0,
  "metadata": {
    "colab": {
      "provenance": [],
      "authorship_tag": "ABX9TyPQg3a/YyblCg8pR1REBSBP",
      "include_colab_link": true
    },
    "kernelspec": {
      "name": "python3",
      "display_name": "Python 3"
    },
    "language_info": {
      "name": "python"
    }
  },
  "cells": [
    {
      "cell_type": "markdown",
      "metadata": {
        "id": "view-in-github",
        "colab_type": "text"
      },
      "source": [
        "<a href=\"https://colab.research.google.com/github/ArezooAalipanah/drl_codes/blob/master/numpy_tutorial.ipynb\" target=\"_parent\"><img src=\"https://colab.research.google.com/assets/colab-badge.svg\" alt=\"Open In Colab\"/></a>"
      ]
    },
    {
      "cell_type": "markdown",
      "source": [
        "# **Intro**\n",
        "What numpy does? it makes arrays of data (1D, 2D, 3D,...) so we can use these arrays.\n",
        "\n",
        "https://numpy.org/\n",
        "\n",
        "## point: why numpy?\n",
        "python itself has arrays and lists. why should we use numpy instead?\n",
        "0. mathematical computations are already supported in numpy. while it's harder to do it on lists.\n",
        "#### 1. its speed.\n",
        "#### 2. how it uses memory. \n",
        "\n",
        "when you make a list in python, say [1, 2, 3] for each element on the list a seperated object is created in the memory and it is saved. \n",
        "the list itself gets one seperated place and the objects have another. \n",
        "but in arrays (np arrays ) the array is a single object. \n",
        "This way reading from that array would also be much faster.\n",
        "( 28 bytes for every single object, eg.)"
      ],
      "metadata": {
        "id": "w0zugqNNEqCf"
      }
    },
    {
      "cell_type": "markdown",
      "source": [
        "# **Array**\n"
      ],
      "metadata": {
        "id": "gTF1kbCXNWKl"
      }
    },
    {
      "cell_type": "code",
      "execution_count": 1,
      "metadata": {
        "id": "4Z2gIijiD2Hr"
      },
      "outputs": [],
      "source": [
        "import numpy as np"
      ]
    },
    {
      "cell_type": "markdown",
      "source": [
        "in numpy there is only one type of data and that is array.\n",
        "every thing in numpy is done through arrays.\n",
        "\n",
        "https://numpy.org/doc/stable/reference/arrays.html\n",
        "\n",
        "Array objects\n",
        "NumPy provides an N-dimensional array type, the ndarray, which describes a collection of **“items” of the same type**. The items can be indexed using for example N integers.\n",
        "\n",
        "All ndarrays are homogeneous: every item takes up the same size block of memory, and all blocks are interpreted in exactly the same way. How each item in the array is to be interpreted is specified by a separate data-type object, one of which is associated with every array. In addition to basic types (integers, floats, etc.), the data type objects can also represent data structures.\n",
        "\n",
        "An item extracted from an array, e.g., by indexing, is represented by a Python object whose type is one of the array scalar types built in NumPy. The array scalars allow easy manipulation of also more complicated arrangements of data.\n",
        "\n",
        "\n",
        "**pay attention to the SAME TYPE**\n",
        "\n",
        "\n",
        "https://numpy.org/doc/stable/reference/generated/numpy.array.html\n",
        "\n",
        "numpy.array(object, dtype=None, *, copy=True, order='K', subok=False, ndmin=0, like=None)"
      ],
      "metadata": {
        "id": "pi24tZEHNsQe"
      }
    },
    {
      "cell_type": "code",
      "source": [
        "sample_array = np.array(1) # for adding the items you can put them inside  []\n",
        "sample_array2 = np.array([1, 2, 3])"
      ],
      "metadata": {
        "id": "JZml2KZONmGz"
      },
      "execution_count": 2,
      "outputs": []
    },
    {
      "cell_type": "code",
      "source": [
        "sample_array"
      ],
      "metadata": {
        "colab": {
          "base_uri": "https://localhost:8080/"
        },
        "id": "b2-jxKiJTJIm",
        "outputId": "9e1a89fb-a782-4ae3-9729-d79f9cb0bc36"
      },
      "execution_count": 3,
      "outputs": [
        {
          "output_type": "execute_result",
          "data": {
            "text/plain": [
              "array(1)"
            ]
          },
          "metadata": {},
          "execution_count": 3
        }
      ]
    },
    {
      "cell_type": "code",
      "source": [
        "sample_array2"
      ],
      "metadata": {
        "colab": {
          "base_uri": "https://localhost:8080/"
        },
        "id": "8cvQJRIQS9PT",
        "outputId": "86fb143c-040c-4610-9628-163655473bd4"
      },
      "execution_count": 4,
      "outputs": [
        {
          "output_type": "execute_result",
          "data": {
            "text/plain": [
              "array([1, 2, 3])"
            ]
          },
          "metadata": {},
          "execution_count": 4
        }
      ]
    },
    {
      "cell_type": "code",
      "source": [
        "type(sample_array2)"
      ],
      "metadata": {
        "colab": {
          "base_uri": "https://localhost:8080/"
        },
        "id": "KDHJhV3LTMPe",
        "outputId": "67095040-bcd1-4c6e-9a2d-feb5fc868027"
      },
      "execution_count": 5,
      "outputs": [
        {
          "output_type": "execute_result",
          "data": {
            "text/plain": [
              "numpy.ndarray"
            ]
          },
          "metadata": {},
          "execution_count": 5
        }
      ]
    },
    {
      "cell_type": "code",
      "source": [
        "type(sample_array)"
      ],
      "metadata": {
        "colab": {
          "base_uri": "https://localhost:8080/"
        },
        "id": "xuQ5aASCTT2C",
        "outputId": "b4492467-253a-4e23-8163-1730053ef46e"
      },
      "execution_count": 6,
      "outputs": [
        {
          "output_type": "execute_result",
          "data": {
            "text/plain": [
              "numpy.ndarray"
            ]
          },
          "metadata": {},
          "execution_count": 6
        }
      ]
    },
    {
      "cell_type": "code",
      "source": [
        "\"\"\"\n",
        "np.array([1, 2, 3]) is a 1D array, since it has no depth. \n",
        "how to se the dimension:\"\"\"\n",
        "sample_array2.ndim"
      ],
      "metadata": {
        "colab": {
          "base_uri": "https://localhost:8080/"
        },
        "id": "M6X3yVyXTb8M",
        "outputId": "f6b48cc2-48c7-45ea-bcd4-88e22e4df4e4"
      },
      "execution_count": 7,
      "outputs": [
        {
          "output_type": "execute_result",
          "data": {
            "text/plain": [
              "1"
            ]
          },
          "metadata": {},
          "execution_count": 7
        }
      ]
    },
    {
      "cell_type": "code",
      "source": [
        "# let's add dimension by 1:\n",
        "s_array = np.array([\n",
        "    [1],\n",
        "    [2],\n",
        "    [3]\n",
        "])"
      ],
      "metadata": {
        "id": "WQnj25gWVBX2"
      },
      "execution_count": 8,
      "outputs": []
    },
    {
      "cell_type": "code",
      "source": [
        "s_array.ndim"
      ],
      "metadata": {
        "colab": {
          "base_uri": "https://localhost:8080/"
        },
        "id": "m92onXfWVQHs",
        "outputId": "4546f09f-bd02-4814-fcc1-0ee00f49b584"
      },
      "execution_count": 9,
      "outputs": [
        {
          "output_type": "execute_result",
          "data": {
            "text/plain": [
              "2"
            ]
          },
          "metadata": {},
          "execution_count": 9
        }
      ]
    },
    {
      "cell_type": "code",
      "source": [
        "s_array2 = np.array([\n",
        "    [[1]],\n",
        "    [[2]]\n",
        "])"
      ],
      "metadata": {
        "id": "xXud2G8lVSVC"
      },
      "execution_count": 10,
      "outputs": []
    },
    {
      "cell_type": "code",
      "source": [
        "s_array2"
      ],
      "metadata": {
        "colab": {
          "base_uri": "https://localhost:8080/"
        },
        "id": "4Qe8aNEdVhOL",
        "outputId": "acd7e36a-8fdc-4b36-cea0-5f0f367389fe"
      },
      "execution_count": 11,
      "outputs": [
        {
          "output_type": "execute_result",
          "data": {
            "text/plain": [
              "array([[[1]],\n",
              "\n",
              "       [[2]]])"
            ]
          },
          "metadata": {},
          "execution_count": 11
        }
      ]
    },
    {
      "cell_type": "code",
      "source": [
        "s_array2.ndim\n"
      ],
      "metadata": {
        "colab": {
          "base_uri": "https://localhost:8080/"
        },
        "id": "5nE65wQaVjJr",
        "outputId": "0cadf245-e3cc-4c86-bf1c-b577f948d615"
      },
      "execution_count": 12,
      "outputs": [
        {
          "output_type": "execute_result",
          "data": {
            "text/plain": [
              "3"
            ]
          },
          "metadata": {},
          "execution_count": 12
        }
      ]
    },
    {
      "cell_type": "code",
      "source": [
        "# the dim is not the number of items, it's about the depth \n",
        "# how many times they are inside. []"
      ],
      "metadata": {
        "id": "D4qyj3DEVlHG"
      },
      "execution_count": 13,
      "outputs": []
    },
    {
      "cell_type": "code",
      "source": [
        "# if we don't add any bruckets and give a number directly it is a 0 dim array\n",
        "sample_array.ndim"
      ],
      "metadata": {
        "colab": {
          "base_uri": "https://localhost:8080/"
        },
        "id": "En0HylZtVx5F",
        "outputId": "597e2875-6f32-4e2e-b7b9-b36626fb4fe9"
      },
      "execution_count": 14,
      "outputs": [
        {
          "output_type": "execute_result",
          "data": {
            "text/plain": [
              "0"
            ]
          },
          "metadata": {},
          "execution_count": 14
        }
      ]
    },
    {
      "cell_type": "code",
      "source": [
        "\n",
        "# so the dim is all about the depth of the bruckets.\n",
        "s_array3 = np.array([\n",
        "    [1,2],\n",
        "    [2,3],\n",
        "    [3,4],\n",
        "    [4,4],\n",
        "    [5,0]\n",
        "])"
      ],
      "metadata": {
        "id": "u2wxIRoZWAjt"
      },
      "execution_count": 15,
      "outputs": []
    },
    {
      "cell_type": "code",
      "source": [
        "s_array3.ndim"
      ],
      "metadata": {
        "colab": {
          "base_uri": "https://localhost:8080/"
        },
        "id": "BU-E90WqWcAO",
        "outputId": "a1cbf6d6-1440-495b-8c98-74cc6faf5f8d"
      },
      "execution_count": 16,
      "outputs": [
        {
          "output_type": "execute_result",
          "data": {
            "text/plain": [
              "2"
            ]
          },
          "metadata": {},
          "execution_count": 16
        }
      ]
    },
    {
      "cell_type": "code",
      "source": [
        "# now if wanna know about the items and how many they are we use shape\n",
        "s_array3.shape"
      ],
      "metadata": {
        "colab": {
          "base_uri": "https://localhost:8080/"
        },
        "id": "osHOdHt1Werh",
        "outputId": "eb761aef-3182-487b-bff0-72c290dba576"
      },
      "execution_count": 17,
      "outputs": [
        {
          "output_type": "execute_result",
          "data": {
            "text/plain": [
              "(5, 2)"
            ]
          },
          "metadata": {},
          "execution_count": 17
        }
      ]
    },
    {
      "cell_type": "code",
      "source": [
        "s_array2.shape"
      ],
      "metadata": {
        "colab": {
          "base_uri": "https://localhost:8080/"
        },
        "id": "g9Jk_krPWrUy",
        "outputId": "6c2df361-8a30-4aab-aaf4-d9238c773fa9"
      },
      "execution_count": 18,
      "outputs": [
        {
          "output_type": "execute_result",
          "data": {
            "text/plain": [
              "(2, 1, 1)"
            ]
          },
          "metadata": {},
          "execution_count": 18
        }
      ]
    },
    {
      "cell_type": "code",
      "source": [
        "# shape sbows the number of the rows and columns of that array\n",
        "s_array3\n",
        "# for example for this (5, 2) means it has 5 rows and 2 columns"
      ],
      "metadata": {
        "colab": {
          "base_uri": "https://localhost:8080/"
        },
        "id": "ByNA_g1zWwUr",
        "outputId": "bfc2761f-b2b4-4233-9ae3-a0cdd588e956"
      },
      "execution_count": 19,
      "outputs": [
        {
          "output_type": "execute_result",
          "data": {
            "text/plain": [
              "array([[1, 2],\n",
              "       [2, 3],\n",
              "       [3, 4],\n",
              "       [4, 4],\n",
              "       [5, 0]])"
            ]
          },
          "metadata": {},
          "execution_count": 19
        }
      ]
    },
    {
      "cell_type": "code",
      "source": [
        "# shape works based on dimensions or axis\n",
        "\"\"\" so in a 1D array we just have axis 0 : shape will send the number of items in axis 0\n",
        " in a 2D array axis 0 would count the rows and axis 1 counts the columns.\n",
        " same goes for more Ds \"\"\"\n",
        "s_array2"
      ],
      "metadata": {
        "id": "C0F69nRjXHNB",
        "colab": {
          "base_uri": "https://localhost:8080/"
        },
        "outputId": "20ee9220-c999-4752-ac57-fbe8cb0079e0"
      },
      "execution_count": 20,
      "outputs": [
        {
          "output_type": "execute_result",
          "data": {
            "text/plain": [
              "array([[[1]],\n",
              "\n",
              "       [[2]]])"
            ]
          },
          "metadata": {},
          "execution_count": 20
        }
      ]
    },
    {
      "cell_type": "code",
      "source": [
        "s_array2.shape"
      ],
      "metadata": {
        "colab": {
          "base_uri": "https://localhost:8080/"
        },
        "id": "fmJFkrd16tqm",
        "outputId": "51aa817e-fe5c-40a0-bdb2-009809730e5c"
      },
      "execution_count": 21,
      "outputs": [
        {
          "output_type": "execute_result",
          "data": {
            "text/plain": [
              "(2, 1, 1)"
            ]
          },
          "metadata": {},
          "execution_count": 21
        }
      ]
    },
    {
      "cell_type": "markdown",
      "source": [
        "https://numpy.org/doc/stable/reference/arrays.scalars.html\n",
        "\"same type\""
      ],
      "metadata": {
        "id": "RW7Xuk1-7_Ep"
      }
    },
    {
      "cell_type": "code",
      "source": [
        "# how can we assign the type in numpy?\n",
        "# You must do it when you are creating the array with dtype\n",
        "\n",
        "a = np.array([1, 2, 3])"
      ],
      "metadata": {
        "id": "WnkY3Fw_60Qp"
      },
      "execution_count": 22,
      "outputs": []
    },
    {
      "cell_type": "code",
      "source": [
        "# how to understand what is the dtype when it'a assigned by numpy itself\n",
        "a.dtype"
      ],
      "metadata": {
        "colab": {
          "base_uri": "https://localhost:8080/"
        },
        "id": "uyDePfVV-TsT",
        "outputId": "825fc73d-c526-4585-ae32-f6453164472e"
      },
      "execution_count": 23,
      "outputs": [
        {
          "output_type": "execute_result",
          "data": {
            "text/plain": [
              "dtype('int64')"
            ]
          },
          "metadata": {},
          "execution_count": 23
        }
      ]
    },
    {
      "cell_type": "code",
      "source": [
        "# you can assign other dtypes by your own:\n",
        "a = np.array([1, 2, 3], dtype=np.uint8)"
      ],
      "metadata": {
        "id": "NV32ZtYQ-WEj"
      },
      "execution_count": 24,
      "outputs": []
    },
    {
      "cell_type": "markdown",
      "source": [
        "u for unsigned\n",
        "and 8 for numbers between 0 and 255"
      ],
      "metadata": {
        "id": "Ui0dgnDS-1q2"
      }
    },
    {
      "cell_type": "code",
      "source": [
        "a.dtype\n"
      ],
      "metadata": {
        "colab": {
          "base_uri": "https://localhost:8080/"
        },
        "id": "mtG0bYhg-xJf",
        "outputId": "69c0c58e-2ce2-4c9f-9f56-960203685749"
      },
      "execution_count": 25,
      "outputs": [
        {
          "output_type": "execute_result",
          "data": {
            "text/plain": [
              "dtype('uint8')"
            ]
          },
          "metadata": {},
          "execution_count": 25
        }
      ]
    },
    {
      "cell_type": "markdown",
      "source": [
        "## **Atrributes**"
      ],
      "metadata": {
        "id": "luhhw45Y_Dlh"
      }
    },
    {
      "cell_type": "markdown",
      "source": [
        "some methods of numpy. basically they are some actions you can do with different arrays.\n",
        "check the list :\n",
        "https://numpy.org/doc/stable/reference/generated/numpy.copy.html"
      ],
      "metadata": {
        "id": "0GzHhvym_PEG"
      }
    },
    {
      "cell_type": "code",
      "source": [
        "arry = np.array([[1,2,3],\n",
        "                 [4,5,6],\n",
        "                 [7,8,9]])"
      ],
      "metadata": {
        "id": "KxmNTs1--yul"
      },
      "execution_count": 26,
      "outputs": []
    },
    {
      "cell_type": "code",
      "source": [
        "# size counts to see how many elements are in an array\n",
        "arry.size"
      ],
      "metadata": {
        "colab": {
          "base_uri": "https://localhost:8080/"
        },
        "id": "ZHr242_g_vfS",
        "outputId": "1e1a41ba-412e-4922-c3a9-f69b63e3e61c"
      },
      "execution_count": 27,
      "outputs": [
        {
          "output_type": "execute_result",
          "data": {
            "text/plain": [
              "9"
            ]
          },
          "metadata": {},
          "execution_count": 27
        }
      ]
    },
    {
      "cell_type": "code",
      "source": [
        "arry.shape"
      ],
      "metadata": {
        "colab": {
          "base_uri": "https://localhost:8080/"
        },
        "id": "0kDP_VA3_-As",
        "outputId": "f5646990-1f3d-40c9-cd2c-71638e57733f"
      },
      "execution_count": 28,
      "outputs": [
        {
          "output_type": "execute_result",
          "data": {
            "text/plain": [
              "(3, 3)"
            ]
          },
          "metadata": {},
          "execution_count": 28
        }
      ]
    },
    {
      "cell_type": "code",
      "source": [
        "#1.reshape\n",
        "#  now there is a method called reshape. using it you can change the shape of your array\n",
        "# pay attention that you should reshape it in a way that the size says the same(makes sense)\n",
        "# a 3,3 for example can be a 9,1 or a 1,9 ,..."
      ],
      "metadata": {
        "id": "K7p0P9_jANnA"
      },
      "execution_count": 29,
      "outputs": []
    },
    {
      "cell_type": "code",
      "source": [
        "arry.reshape(1,9)"
      ],
      "metadata": {
        "colab": {
          "base_uri": "https://localhost:8080/"
        },
        "id": "_y9C9TypAptf",
        "outputId": "3836e806-6ac5-4a4b-e70d-0be637a67005"
      },
      "execution_count": 30,
      "outputs": [
        {
          "output_type": "execute_result",
          "data": {
            "text/plain": [
              "array([[1, 2, 3, 4, 5, 6, 7, 8, 9]])"
            ]
          },
          "metadata": {},
          "execution_count": 30
        }
      ]
    },
    {
      "cell_type": "code",
      "source": [
        "arry.reshape(9,1)"
      ],
      "metadata": {
        "colab": {
          "base_uri": "https://localhost:8080/"
        },
        "id": "enCZUOK1AyGb",
        "outputId": "d61797ba-c7ef-49e0-c060-a8e474667227"
      },
      "execution_count": 31,
      "outputs": [
        {
          "output_type": "execute_result",
          "data": {
            "text/plain": [
              "array([[1],\n",
              "       [2],\n",
              "       [3],\n",
              "       [4],\n",
              "       [5],\n",
              "       [6],\n",
              "       [7],\n",
              "       [8],\n",
              "       [9]])"
            ]
          },
          "metadata": {},
          "execution_count": 31
        }
      ]
    },
    {
      "cell_type": "code",
      "source": [
        "arry.reshape(3,-1)"
      ],
      "metadata": {
        "colab": {
          "base_uri": "https://localhost:8080/"
        },
        "id": "mj5fqHliA3b-",
        "outputId": "01601146-2067-484c-e494-d4dc89528ba7"
      },
      "execution_count": 32,
      "outputs": [
        {
          "output_type": "execute_result",
          "data": {
            "text/plain": [
              "array([[1, 2, 3],\n",
              "       [4, 5, 6],\n",
              "       [7, 8, 9]])"
            ]
          },
          "metadata": {},
          "execution_count": 32
        }
      ]
    },
    {
      "cell_type": "code",
      "source": [
        "arry.reshape(2,-1) # but this one gives an error"
      ],
      "metadata": {
        "colab": {
          "base_uri": "https://localhost:8080/",
          "height": 165
        },
        "id": "d-yHrJdkA6Md",
        "outputId": "278c49fd-5c80-4d04-93e1-f99723daaff5"
      },
      "execution_count": 34,
      "outputs": [
        {
          "output_type": "error",
          "ename": "ValueError",
          "evalue": "ignored",
          "traceback": [
            "\u001b[0;31m---------------------------------------------------------------------------\u001b[0m",
            "\u001b[0;31mValueError\u001b[0m                                Traceback (most recent call last)",
            "\u001b[0;32m<ipython-input-34-cf5f4f5289d3>\u001b[0m in \u001b[0;36m<cell line: 1>\u001b[0;34m()\u001b[0m\n\u001b[0;32m----> 1\u001b[0;31m \u001b[0marry\u001b[0m\u001b[0;34m.\u001b[0m\u001b[0mreshape\u001b[0m\u001b[0;34m(\u001b[0m\u001b[0;36m2\u001b[0m\u001b[0;34m,\u001b[0m\u001b[0;34m-\u001b[0m\u001b[0;36m1\u001b[0m\u001b[0;34m)\u001b[0m \u001b[0;31m# but this one gives an error\u001b[0m\u001b[0;34m\u001b[0m\u001b[0;34m\u001b[0m\u001b[0m\n\u001b[0m",
            "\u001b[0;31mValueError\u001b[0m: cannot reshape array of size 9 into shape (2,newaxis)"
          ]
        }
      ]
    },
    {
      "cell_type": "code",
      "source": [
        "new_ar= arry.reshape(-1)"
      ],
      "metadata": {
        "id": "_nwOJFskBAvJ"
      },
      "execution_count": 35,
      "outputs": []
    },
    {
      "cell_type": "code",
      "source": [
        "new_ar.shape"
      ],
      "metadata": {
        "colab": {
          "base_uri": "https://localhost:8080/"
        },
        "id": "L5dIrawXBP4v",
        "outputId": "52e47eea-acab-45a0-d6ca-133f1caca25f"
      },
      "execution_count": 36,
      "outputs": [
        {
          "output_type": "execute_result",
          "data": {
            "text/plain": [
              "(9,)"
            ]
          },
          "metadata": {},
          "execution_count": 36
        }
      ]
    },
    {
      "cell_type": "code",
      "source": [
        "#2. slice\n",
        "\"\"\"\n",
        "to slice the array or to get the the element with a specific index\n",
        "\"\"\"\n",
        "arry[0] "
      ],
      "metadata": {
        "id": "3FnW9mJGBiP_",
        "colab": {
          "base_uri": "https://localhost:8080/"
        },
        "outputId": "81dac690-c935-486d-bfd7-f85912d4b74d"
      },
      "execution_count": 38,
      "outputs": [
        {
          "output_type": "execute_result",
          "data": {
            "text/plain": [
              "array([1, 2, 3])"
            ]
          },
          "metadata": {},
          "execution_count": 38
        }
      ]
    },
    {
      "cell_type": "code",
      "source": [
        "# we can also get the items inside the array in the array\n",
        "arry[0][0]"
      ],
      "metadata": {
        "colab": {
          "base_uri": "https://localhost:8080/"
        },
        "id": "ED1s56ls1jP5",
        "outputId": "f1c651dd-6130-4542-933e-a4be527cdb39"
      },
      "execution_count": 39,
      "outputs": [
        {
          "output_type": "execute_result",
          "data": {
            "text/plain": [
              "1"
            ]
          },
          "metadata": {},
          "execution_count": 39
        }
      ]
    },
    {
      "cell_type": "code",
      "source": [
        "# numpy suggests that instead of opening 2 bruckets, mentioning the row and the column in one brucket\n",
        "# with a comma\n",
        "arry[0, 0]\n"
      ],
      "metadata": {
        "colab": {
          "base_uri": "https://localhost:8080/"
        },
        "id": "oI0T3IrA2UZE",
        "outputId": "fdf1e30f-60e0-426c-9cec-69a26001ee2d"
      },
      "execution_count": 40,
      "outputs": [
        {
          "output_type": "execute_result",
          "data": {
            "text/plain": [
              "1"
            ]
          },
          "metadata": {},
          "execution_count": 40
        }
      ]
    },
    {
      "cell_type": "code",
      "source": [
        "# we can also slice it with :\n",
        "# this would give us a part of it\n",
        "arry [ 0, 0:]\n"
      ],
      "metadata": {
        "colab": {
          "base_uri": "https://localhost:8080/"
        },
        "id": "cxf_WroC2s_Y",
        "outputId": "f137d457-a154-4554-833c-34c7632f029c"
      },
      "execution_count": 41,
      "outputs": [
        {
          "output_type": "execute_result",
          "data": {
            "text/plain": [
              "array([1, 2, 3])"
            ]
          },
          "metadata": {},
          "execution_count": 41
        }
      ]
    },
    {
      "cell_type": "code",
      "source": [
        "arry[1:, 1]"
      ],
      "metadata": {
        "colab": {
          "base_uri": "https://localhost:8080/"
        },
        "id": "7sUwtRqs27qG",
        "outputId": "d51de3b0-1e31-4f74-8ba0-daabca506093"
      },
      "execution_count": 43,
      "outputs": [
        {
          "output_type": "execute_result",
          "data": {
            "text/plain": [
              "array([5, 8])"
            ]
          },
          "metadata": {},
          "execution_count": 43
        }
      ]
    },
    {
      "cell_type": "code",
      "source": [
        "# 3. to attatch 2 arrays together\n",
        "b_arry = np.array([11, 22, 33])\n",
        "# vstack method does it vertically\n",
        "np.vstack((arry, b_arry))"
      ],
      "metadata": {
        "colab": {
          "base_uri": "https://localhost:8080/"
        },
        "id": "1hMuDikI2-pU",
        "outputId": "f2377390-d5b1-4651-9fca-21f49b663a6f"
      },
      "execution_count": 45,
      "outputs": [
        {
          "output_type": "execute_result",
          "data": {
            "text/plain": [
              "array([[ 1,  2,  3],\n",
              "       [ 4,  5,  6],\n",
              "       [ 7,  8,  9],\n",
              "       [11, 22, 33]])"
            ]
          },
          "metadata": {},
          "execution_count": 45
        }
      ]
    },
    {
      "cell_type": "code",
      "source": [
        "# hstack is horizontal\n",
        "np.hstack((arry, b_arry)) #this one gives an error since the dimensions don't match\n",
        "# arry is 2D while b_arry is 2D thay can be stacked to the row but to the columns its not possible\n"
      ],
      "metadata": {
        "colab": {
          "base_uri": "https://localhost:8080/",
          "height": 259
        },
        "id": "nb5Jkeg7AihB",
        "outputId": "de5cb921-bf0f-4d3f-c190-06beb43275c2"
      },
      "execution_count": 48,
      "outputs": [
        {
          "output_type": "error",
          "ename": "ValueError",
          "evalue": "ignored",
          "traceback": [
            "\u001b[0;31m---------------------------------------------------------------------------\u001b[0m",
            "\u001b[0;31mValueError\u001b[0m                                Traceback (most recent call last)",
            "\u001b[0;32m<ipython-input-48-ad6483c33bcb>\u001b[0m in \u001b[0;36m<cell line: 2>\u001b[0;34m()\u001b[0m\n\u001b[1;32m      1\u001b[0m \u001b[0;31m# hstack is horizontal\u001b[0m\u001b[0;34m\u001b[0m\u001b[0;34m\u001b[0m\u001b[0m\n\u001b[0;32m----> 2\u001b[0;31m \u001b[0mnp\u001b[0m\u001b[0;34m.\u001b[0m\u001b[0mhstack\u001b[0m\u001b[0;34m(\u001b[0m\u001b[0;34m(\u001b[0m\u001b[0marry\u001b[0m\u001b[0;34m,\u001b[0m \u001b[0mb_arry\u001b[0m\u001b[0;34m)\u001b[0m\u001b[0;34m)\u001b[0m \u001b[0;31m#this one gives an error since the dimensions don't match\u001b[0m\u001b[0;34m\u001b[0m\u001b[0;34m\u001b[0m\u001b[0m\n\u001b[0m\u001b[1;32m      3\u001b[0m \u001b[0;31m# arry is 2D while b_arry is 2D thay can be stacked to the row but to the columns its not possible\u001b[0m\u001b[0;34m\u001b[0m\u001b[0;34m\u001b[0m\u001b[0m\n",
            "\u001b[0;32m/usr/local/lib/python3.10/dist-packages/numpy/core/overrides.py\u001b[0m in \u001b[0;36mhstack\u001b[0;34m(*args, **kwargs)\u001b[0m\n",
            "\u001b[0;32m/usr/local/lib/python3.10/dist-packages/numpy/core/shape_base.py\u001b[0m in \u001b[0;36mhstack\u001b[0;34m(tup)\u001b[0m\n\u001b[1;32m    343\u001b[0m         \u001b[0;32mreturn\u001b[0m \u001b[0m_nx\u001b[0m\u001b[0;34m.\u001b[0m\u001b[0mconcatenate\u001b[0m\u001b[0;34m(\u001b[0m\u001b[0marrs\u001b[0m\u001b[0;34m,\u001b[0m \u001b[0;36m0\u001b[0m\u001b[0;34m)\u001b[0m\u001b[0;34m\u001b[0m\u001b[0;34m\u001b[0m\u001b[0m\n\u001b[1;32m    344\u001b[0m     \u001b[0;32melse\u001b[0m\u001b[0;34m:\u001b[0m\u001b[0;34m\u001b[0m\u001b[0;34m\u001b[0m\u001b[0m\n\u001b[0;32m--> 345\u001b[0;31m         \u001b[0;32mreturn\u001b[0m \u001b[0m_nx\u001b[0m\u001b[0;34m.\u001b[0m\u001b[0mconcatenate\u001b[0m\u001b[0;34m(\u001b[0m\u001b[0marrs\u001b[0m\u001b[0;34m,\u001b[0m \u001b[0;36m1\u001b[0m\u001b[0;34m)\u001b[0m\u001b[0;34m\u001b[0m\u001b[0;34m\u001b[0m\u001b[0m\n\u001b[0m\u001b[1;32m    346\u001b[0m \u001b[0;34m\u001b[0m\u001b[0m\n\u001b[1;32m    347\u001b[0m \u001b[0;34m\u001b[0m\u001b[0m\n",
            "\u001b[0;32m/usr/local/lib/python3.10/dist-packages/numpy/core/overrides.py\u001b[0m in \u001b[0;36mconcatenate\u001b[0;34m(*args, **kwargs)\u001b[0m\n",
            "\u001b[0;31mValueError\u001b[0m: all the input arrays must have same number of dimensions, but the array at index 0 has 2 dimension(s) and the array at index 1 has 1 dimension(s)"
          ]
        }
      ]
    },
    {
      "cell_type": "code",
      "source": [
        "c_arry = np.array([[11, 22, 33]])\n",
        "np.vstack((arry, c_arry))"
      ],
      "metadata": {
        "colab": {
          "base_uri": "https://localhost:8080/"
        },
        "id": "_SyEIRBnAtMt",
        "outputId": "8564b8ed-7115-48eb-b0c0-e826a063c407"
      },
      "execution_count": 51,
      "outputs": [
        {
          "output_type": "execute_result",
          "data": {
            "text/plain": [
              "array([[ 1,  2,  3],\n",
              "       [ 4,  5,  6],\n",
              "       [ 7,  8,  9],\n",
              "       [11, 22, 33]])"
            ]
          },
          "metadata": {},
          "execution_count": 51
        }
      ]
    },
    {
      "cell_type": "code",
      "source": [
        "c_arry = np.array([[11, 22, 33]])\n",
        "np.hstack((arry, c_arry)) #still doesn't work"
      ],
      "metadata": {
        "colab": {
          "base_uri": "https://localhost:8080/",
          "height": 241
        },
        "id": "8TFso3SrBTYF",
        "outputId": "f4008d12-b112-4b17-c777-a4b210b1e3ce"
      },
      "execution_count": 53,
      "outputs": [
        {
          "output_type": "error",
          "ename": "ValueError",
          "evalue": "ignored",
          "traceback": [
            "\u001b[0;31m---------------------------------------------------------------------------\u001b[0m",
            "\u001b[0;31mValueError\u001b[0m                                Traceback (most recent call last)",
            "\u001b[0;32m<ipython-input-53-2a79f0cd38c5>\u001b[0m in \u001b[0;36m<cell line: 2>\u001b[0;34m()\u001b[0m\n\u001b[1;32m      1\u001b[0m \u001b[0mc_arry\u001b[0m \u001b[0;34m=\u001b[0m \u001b[0mnp\u001b[0m\u001b[0;34m.\u001b[0m\u001b[0marray\u001b[0m\u001b[0;34m(\u001b[0m\u001b[0;34m[\u001b[0m\u001b[0;34m[\u001b[0m\u001b[0;36m11\u001b[0m\u001b[0;34m,\u001b[0m \u001b[0;36m22\u001b[0m\u001b[0;34m,\u001b[0m \u001b[0;36m33\u001b[0m\u001b[0;34m]\u001b[0m\u001b[0;34m]\u001b[0m\u001b[0;34m)\u001b[0m\u001b[0;34m\u001b[0m\u001b[0;34m\u001b[0m\u001b[0m\n\u001b[0;32m----> 2\u001b[0;31m \u001b[0mnp\u001b[0m\u001b[0;34m.\u001b[0m\u001b[0mhstack\u001b[0m\u001b[0;34m(\u001b[0m\u001b[0;34m(\u001b[0m\u001b[0marry\u001b[0m\u001b[0;34m,\u001b[0m \u001b[0mc_arry\u001b[0m\u001b[0;34m)\u001b[0m\u001b[0;34m)\u001b[0m\u001b[0;34m\u001b[0m\u001b[0;34m\u001b[0m\u001b[0m\n\u001b[0m",
            "\u001b[0;32m/usr/local/lib/python3.10/dist-packages/numpy/core/overrides.py\u001b[0m in \u001b[0;36mhstack\u001b[0;34m(*args, **kwargs)\u001b[0m\n",
            "\u001b[0;32m/usr/local/lib/python3.10/dist-packages/numpy/core/shape_base.py\u001b[0m in \u001b[0;36mhstack\u001b[0;34m(tup)\u001b[0m\n\u001b[1;32m    343\u001b[0m         \u001b[0;32mreturn\u001b[0m \u001b[0m_nx\u001b[0m\u001b[0;34m.\u001b[0m\u001b[0mconcatenate\u001b[0m\u001b[0;34m(\u001b[0m\u001b[0marrs\u001b[0m\u001b[0;34m,\u001b[0m \u001b[0;36m0\u001b[0m\u001b[0;34m)\u001b[0m\u001b[0;34m\u001b[0m\u001b[0;34m\u001b[0m\u001b[0m\n\u001b[1;32m    344\u001b[0m     \u001b[0;32melse\u001b[0m\u001b[0;34m:\u001b[0m\u001b[0;34m\u001b[0m\u001b[0;34m\u001b[0m\u001b[0m\n\u001b[0;32m--> 345\u001b[0;31m         \u001b[0;32mreturn\u001b[0m \u001b[0m_nx\u001b[0m\u001b[0;34m.\u001b[0m\u001b[0mconcatenate\u001b[0m\u001b[0;34m(\u001b[0m\u001b[0marrs\u001b[0m\u001b[0;34m,\u001b[0m \u001b[0;36m1\u001b[0m\u001b[0;34m)\u001b[0m\u001b[0;34m\u001b[0m\u001b[0;34m\u001b[0m\u001b[0m\n\u001b[0m\u001b[1;32m    346\u001b[0m \u001b[0;34m\u001b[0m\u001b[0m\n\u001b[1;32m    347\u001b[0m \u001b[0;34m\u001b[0m\u001b[0m\n",
            "\u001b[0;32m/usr/local/lib/python3.10/dist-packages/numpy/core/overrides.py\u001b[0m in \u001b[0;36mconcatenate\u001b[0;34m(*args, **kwargs)\u001b[0m\n",
            "\u001b[0;31mValueError\u001b[0m: all the input array dimensions for the concatenation axis must match exactly, but along dimension 0, the array at index 0 has size 3 and the array at index 1 has size 1"
          ]
        }
      ]
    },
    {
      "cell_type": "code",
      "source": [
        "c_arry = np.array([[11], [22], [33]])\n",
        "np.hstack((arry, c_arry))"
      ],
      "metadata": {
        "colab": {
          "base_uri": "https://localhost:8080/"
        },
        "id": "qpVei-8EBXnw",
        "outputId": "86c86b35-3be0-4b37-9b4d-274f5162a370"
      },
      "execution_count": 56,
      "outputs": [
        {
          "output_type": "execute_result",
          "data": {
            "text/plain": [
              "array([[ 1,  2,  3, 11],\n",
              "       [ 4,  5,  6, 22],\n",
              "       [ 7,  8,  9, 33]])"
            ]
          },
          "metadata": {},
          "execution_count": 56
        }
      ]
    },
    {
      "cell_type": "code",
      "source": [
        "# there is another method called concatenate\n",
        "# it takes the arrays and you can define which axis you want \n",
        "# axis 0 or 1,...\n",
        "\n",
        "np.concatenate((arry, c_arry), axis=1)"
      ],
      "metadata": {
        "colab": {
          "base_uri": "https://localhost:8080/"
        },
        "id": "uqrVe8BgBl6d",
        "outputId": "44d45a23-20df-43cb-f3e8-f3bc81ff2b9a"
      },
      "execution_count": 58,
      "outputs": [
        {
          "output_type": "execute_result",
          "data": {
            "text/plain": [
              "array([[ 1,  2,  3, 11],\n",
              "       [ 4,  5,  6, 22],\n",
              "       [ 7,  8,  9, 33]])"
            ]
          },
          "metadata": {},
          "execution_count": 58
        }
      ]
    },
    {
      "cell_type": "code",
      "source": [
        "# there are other methods for splitting the arrays\n",
        "# vsplit does it verticlly \n",
        "np.vsplit(arry, 3) "
      ],
      "metadata": {
        "colab": {
          "base_uri": "https://localhost:8080/"
        },
        "id": "8iTPJ_BNCMoV",
        "outputId": "cf113217-f457-43ba-a7c7-806276c84839"
      },
      "execution_count": 60,
      "outputs": [
        {
          "output_type": "execute_result",
          "data": {
            "text/plain": [
              "[array([[1, 2, 3]]), array([[4, 5, 6]]), array([[7, 8, 9]])]"
            ]
          },
          "metadata": {},
          "execution_count": 60
        }
      ]
    },
    {
      "cell_type": "code",
      "source": [
        "np.vsplit(arry, 1) # the number has to be resonable. like you cannot devide 9 by 2"
      ],
      "metadata": {
        "colab": {
          "base_uri": "https://localhost:8080/"
        },
        "id": "bChn8zGOEi9g",
        "outputId": "31f44c44-4387-4c1e-ba87-8e0e2ef46b18"
      },
      "execution_count": 63,
      "outputs": [
        {
          "output_type": "execute_result",
          "data": {
            "text/plain": [
              "[array([[1, 2, 3],\n",
              "        [4, 5, 6],\n",
              "        [7, 8, 9]])]"
            ]
          },
          "metadata": {},
          "execution_count": 63
        }
      ]
    },
    {
      "cell_type": "code",
      "source": [
        "# now the horizonltal\n",
        "np.hsplit(arry, 3) "
      ],
      "metadata": {
        "colab": {
          "base_uri": "https://localhost:8080/"
        },
        "id": "y_vphguJEpJe",
        "outputId": "8fe5b1f9-db30-48f9-91b6-687994e2c051"
      },
      "execution_count": 64,
      "outputs": [
        {
          "output_type": "execute_result",
          "data": {
            "text/plain": [
              "[array([[1],\n",
              "        [4],\n",
              "        [7]]),\n",
              " array([[2],\n",
              "        [5],\n",
              "        [8]]),\n",
              " array([[3],\n",
              "        [6],\n",
              "        [9]])]"
            ]
          },
          "metadata": {},
          "execution_count": 64
        }
      ]
    },
    {
      "cell_type": "code",
      "source": [
        "# 4. sort does the sorting\n",
        "some_arry = np.array([1,4,2])\n",
        "np.sort(some_arry)"
      ],
      "metadata": {
        "id": "KyYlNIE7JISd",
        "outputId": "06e90fd8-d8f4-4c9b-e0af-4851dfaccf0f",
        "colab": {
          "base_uri": "https://localhost:8080/"
        }
      },
      "execution_count": 66,
      "outputs": [
        {
          "output_type": "execute_result",
          "data": {
            "text/plain": [
              "array([1, 2, 4])"
            ]
          },
          "metadata": {},
          "execution_count": 66
        }
      ]
    },
    {
      "cell_type": "code",
      "source": [
        "# then there is copy and view\n",
        "# to copy an array :\n",
        "arry_n = arry.copy()\n",
        "arry_j = arry.view()"
      ],
      "metadata": {
        "id": "V2yxOZONJfw4"
      },
      "execution_count": 67,
      "outputs": []
    },
    {
      "cell_type": "code",
      "source": [
        "arry_n"
      ],
      "metadata": {
        "id": "Sra-3HhoJ0VE",
        "outputId": "ea4f5b7f-938c-443a-8c2c-1f2e1c37d232",
        "colab": {
          "base_uri": "https://localhost:8080/"
        }
      },
      "execution_count": 68,
      "outputs": [
        {
          "output_type": "execute_result",
          "data": {
            "text/plain": [
              "array([[1, 2, 3],\n",
              "       [4, 5, 6],\n",
              "       [7, 8, 9]])"
            ]
          },
          "metadata": {},
          "execution_count": 68
        }
      ]
    },
    {
      "cell_type": "code",
      "source": [
        "arry_j"
      ],
      "metadata": {
        "id": "yBZGOQNXJ1lT",
        "outputId": "39293ba9-e4b9-4d2f-c3de-efdffcc13b2c",
        "colab": {
          "base_uri": "https://localhost:8080/"
        }
      },
      "execution_count": 69,
      "outputs": [
        {
          "output_type": "execute_result",
          "data": {
            "text/plain": [
              "array([[1, 2, 3],\n",
              "       [4, 5, 6],\n",
              "       [7, 8, 9]])"
            ]
          },
          "metadata": {},
          "execution_count": 69
        }
      ]
    },
    {
      "cell_type": "code",
      "source": [
        "\"\"\"\n",
        "the difference: copy exactly makes a copy of that array an gives you a new array\n",
        "but view refers to the exact same array \n",
        "so if you make any chnges to the copy, there is no change in the main array \n",
        "but if you change the view the main array would change\"\"\"\n",
        "arry_j[0, 1] = 22\n",
        "arry_n[0, 0] = 2222\n"
      ],
      "metadata": {
        "id": "SnTszHhpJ3CN"
      },
      "execution_count": 71,
      "outputs": []
    },
    {
      "cell_type": "code",
      "source": [
        "arry_n"
      ],
      "metadata": {
        "id": "JEL4apiUKg_2",
        "outputId": "248b21b0-3faa-47b1-96d6-799543893d05",
        "colab": {
          "base_uri": "https://localhost:8080/"
        }
      },
      "execution_count": 72,
      "outputs": [
        {
          "output_type": "execute_result",
          "data": {
            "text/plain": [
              "array([[2222,    2,    3],\n",
              "       [   4,    5,    6],\n",
              "       [   7,    8,    9]])"
            ]
          },
          "metadata": {},
          "execution_count": 72
        }
      ]
    },
    {
      "cell_type": "code",
      "source": [
        "arry_j"
      ],
      "metadata": {
        "id": "DcqiWbsZKlhb",
        "outputId": "8bc446d4-cb6e-4b02-81ba-ef436de3fd1f",
        "colab": {
          "base_uri": "https://localhost:8080/"
        }
      },
      "execution_count": 73,
      "outputs": [
        {
          "output_type": "execute_result",
          "data": {
            "text/plain": [
              "array([[ 1, 22,  3],\n",
              "       [ 4,  5,  6],\n",
              "       [ 7,  8,  9]])"
            ]
          },
          "metadata": {},
          "execution_count": 73
        }
      ]
    },
    {
      "cell_type": "code",
      "source": [
        "arry"
      ],
      "metadata": {
        "id": "Sauv9OllKmxZ",
        "outputId": "a2df1938-2dab-4361-f934-d8dbb59ce236",
        "colab": {
          "base_uri": "https://localhost:8080/"
        }
      },
      "execution_count": 74,
      "outputs": [
        {
          "output_type": "execute_result",
          "data": {
            "text/plain": [
              "array([[ 1, 22,  3],\n",
              "       [ 4,  5,  6],\n",
              "       [ 7,  8,  9]])"
            ]
          },
          "metadata": {},
          "execution_count": 74
        }
      ]
    },
    {
      "cell_type": "code",
      "source": [
        "\"\"\"\n",
        "there might be cases where you have an array that you don't know it's a copy or \n",
        "it's a view\n",
        "you can get it with the base value\"\"\"\n",
        "arry_j.base # it returns the base array"
      ],
      "metadata": {
        "id": "tsjyZr-sKnMu",
        "outputId": "60ed08c6-a4b9-4611-e10f-10102508dbb1",
        "colab": {
          "base_uri": "https://localhost:8080/"
        }
      },
      "execution_count": 77,
      "outputs": [
        {
          "output_type": "execute_result",
          "data": {
            "text/plain": [
              "array([[ 1, 22,  3],\n",
              "       [ 4,  5,  6],\n",
              "       [ 7,  8,  9]])"
            ]
          },
          "metadata": {},
          "execution_count": 77
        }
      ]
    },
    {
      "cell_type": "code",
      "source": [
        "arry_n.base # it returns nothing because there is no base, it is a complete array itself.\n"
      ],
      "metadata": {
        "id": "xl_n4O8qLExz"
      },
      "execution_count": 78,
      "outputs": []
    },
    {
      "cell_type": "code",
      "source": [
        "print(arry_n.base)\n",
        "print(arry_j.base)"
      ],
      "metadata": {
        "id": "13oh4EOFLGZk",
        "outputId": "5400bb31-ad34-4da5-f81a-b11050442900",
        "colab": {
          "base_uri": "https://localhost:8080/"
        }
      },
      "execution_count": 80,
      "outputs": [
        {
          "output_type": "stream",
          "name": "stdout",
          "text": [
            "None\n",
            "[[ 1 22  3]\n",
            " [ 4  5  6]\n",
            " [ 7  8  9]]\n"
          ]
        }
      ]
    },
    {
      "cell_type": "markdown",
      "source": [],
      "metadata": {
        "id": "L_HAdQPeLjkP"
      }
    },
    {
      "cell_type": "code",
      "source": [],
      "metadata": {
        "id": "4svDRWNFLdO1"
      },
      "execution_count": null,
      "outputs": []
    },
    {
      "cell_type": "markdown",
      "source": [],
      "metadata": {
        "id": "trhxqPUeLoKk"
      }
    }
  ]
}