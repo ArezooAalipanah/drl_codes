{
  "nbformat": 4,
  "nbformat_minor": 0,
  "metadata": {
    "colab": {
      "provenance": [],
      "authorship_tag": "ABX9TyNTvgOfM/P+fc/egOY4/R9S",
      "include_colab_link": true
    },
    "kernelspec": {
      "name": "python3",
      "display_name": "Python 3"
    },
    "language_info": {
      "name": "python"
    }
  },
  "cells": [
    {
      "cell_type": "markdown",
      "metadata": {
        "id": "view-in-github",
        "colab_type": "text"
      },
      "source": [
        "<a href=\"https://colab.research.google.com/github/ArezooAalipanah/drl_codes/blob/master/numpy_tutorial.ipynb\" target=\"_parent\"><img src=\"https://colab.research.google.com/assets/colab-badge.svg\" alt=\"Open In Colab\"/></a>"
      ]
    },
    {
      "cell_type": "markdown",
      "source": [
        "# **Intro**\n",
        "What numpy does? it makes arrays of data (1D, 2D, 3D,...) so we can use these arrays.\n",
        "\n",
        "https://numpy.org/\n",
        "\n",
        "## point: why numpy?\n",
        "python itself has arrays and lists. why should we use numpy instead?\n",
        "0. mathematical computations are already supported in numpy. while it's harder to do it on lists.\n",
        "#### 1. its speed.\n",
        "#### 2. how it uses memory. \n",
        "\n",
        "when you make a list in python, say [1, 2, 3] for each element on the list a seperated object is created in the memory and it is saved. \n",
        "the list itself gets one seperated place and the objects have another. \n",
        "but in arrays (np arrays ) the array is a single object. \n",
        "This way reading from that array would also be much faster.\n",
        "( 28 bytes for every single object, eg.)"
      ],
      "metadata": {
        "id": "w0zugqNNEqCf"
      }
    },
    {
      "cell_type": "markdown",
      "source": [
        "# **Array**\n"
      ],
      "metadata": {
        "id": "gTF1kbCXNWKl"
      }
    },
    {
      "cell_type": "code",
      "execution_count": 1,
      "metadata": {
        "id": "4Z2gIijiD2Hr"
      },
      "outputs": [],
      "source": [
        "import numpy as np"
      ]
    },
    {
      "cell_type": "markdown",
      "source": [
        "in numpy there is only one type of data and that is array.\n",
        "every thing in numpy is done through arrays.\n",
        "\n",
        "https://numpy.org/doc/stable/reference/arrays.html\n",
        "\n",
        "Array objects\n",
        "NumPy provides an N-dimensional array type, the ndarray, which describes a collection of **“items” of the same type**. The items can be indexed using for example N integers.\n",
        "\n",
        "All ndarrays are homogeneous: every item takes up the same size block of memory, and all blocks are interpreted in exactly the same way. How each item in the array is to be interpreted is specified by a separate data-type object, one of which is associated with every array. In addition to basic types (integers, floats, etc.), the data type objects can also represent data structures.\n",
        "\n",
        "An item extracted from an array, e.g., by indexing, is represented by a Python object whose type is one of the array scalar types built in NumPy. The array scalars allow easy manipulation of also more complicated arrangements of data.\n",
        "\n",
        "\n",
        "**pay attention to the SAME TYPE**\n",
        "\n",
        "\n",
        "https://numpy.org/doc/stable/reference/generated/numpy.array.html\n",
        "\n",
        "numpy.array(object, dtype=None, *, copy=True, order='K', subok=False, ndmin=0, like=None)"
      ],
      "metadata": {
        "id": "pi24tZEHNsQe"
      }
    },
    {
      "cell_type": "code",
      "source": [
        "sample_array = np.array(1) # for adding the items you can put them inside  []\n",
        "sample_array2 = np.array([1, 2, 3])"
      ],
      "metadata": {
        "id": "JZml2KZONmGz"
      },
      "execution_count": 8,
      "outputs": []
    },
    {
      "cell_type": "code",
      "source": [
        "sample_array"
      ],
      "metadata": {
        "colab": {
          "base_uri": "https://localhost:8080/"
        },
        "id": "b2-jxKiJTJIm",
        "outputId": "412b4d57-0eb3-499a-c266-95861e46da8f"
      },
      "execution_count": 9,
      "outputs": [
        {
          "output_type": "execute_result",
          "data": {
            "text/plain": [
              "array(1)"
            ]
          },
          "metadata": {},
          "execution_count": 9
        }
      ]
    },
    {
      "cell_type": "code",
      "source": [
        "sample_array2"
      ],
      "metadata": {
        "colab": {
          "base_uri": "https://localhost:8080/"
        },
        "id": "8cvQJRIQS9PT",
        "outputId": "36489b75-3de4-40ef-ec2e-442748541c47"
      },
      "execution_count": 10,
      "outputs": [
        {
          "output_type": "execute_result",
          "data": {
            "text/plain": [
              "array([1, 2, 3])"
            ]
          },
          "metadata": {},
          "execution_count": 10
        }
      ]
    },
    {
      "cell_type": "code",
      "source": [
        "type(sample_array2)"
      ],
      "metadata": {
        "colab": {
          "base_uri": "https://localhost:8080/"
        },
        "id": "KDHJhV3LTMPe",
        "outputId": "f4281e6d-c5d5-4df0-87b1-3cc102392550"
      },
      "execution_count": 11,
      "outputs": [
        {
          "output_type": "execute_result",
          "data": {
            "text/plain": [
              "numpy.ndarray"
            ]
          },
          "metadata": {},
          "execution_count": 11
        }
      ]
    },
    {
      "cell_type": "code",
      "source": [
        "type(sample_array)"
      ],
      "metadata": {
        "colab": {
          "base_uri": "https://localhost:8080/"
        },
        "id": "xuQ5aASCTT2C",
        "outputId": "191eb6b3-878c-4ffc-f230-9db297806a92"
      },
      "execution_count": 12,
      "outputs": [
        {
          "output_type": "execute_result",
          "data": {
            "text/plain": [
              "numpy.ndarray"
            ]
          },
          "metadata": {},
          "execution_count": 12
        }
      ]
    },
    {
      "cell_type": "code",
      "source": [],
      "metadata": {
        "id": "M6X3yVyXTb8M"
      },
      "execution_count": null,
      "outputs": []
    }
  ]
}