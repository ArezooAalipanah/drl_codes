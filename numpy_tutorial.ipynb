{
  "nbformat": 4,
  "nbformat_minor": 0,
  "metadata": {
    "colab": {
      "provenance": [],
      "authorship_tag": "ABX9TyP1buZ1bYUPs5pYaa0mRaqR",
      "include_colab_link": true
    },
    "kernelspec": {
      "name": "python3",
      "display_name": "Python 3"
    },
    "language_info": {
      "name": "python"
    }
  },
  "cells": [
    {
      "cell_type": "markdown",
      "metadata": {
        "id": "view-in-github",
        "colab_type": "text"
      },
      "source": [
        "<a href=\"https://colab.research.google.com/github/ArezooAalipanah/drl_codes/blob/master/numpy_tutorial.ipynb\" target=\"_parent\"><img src=\"https://colab.research.google.com/assets/colab-badge.svg\" alt=\"Open In Colab\"/></a>"
      ]
    },
    {
      "cell_type": "markdown",
      "source": [
        "# **Intro**\n",
        "What numpy does? it makes arrays of data (1D, 2D, 3D,...) so we can use these arrays.\n",
        "\n",
        "https://numpy.org/\n",
        "\n",
        "## point: why numpy?\n",
        "python itself has arrays and lists. why should we use numpy instead?\n",
        "0. mathematical computations are already supported in numpy. while it's harder to do it on lists.\n",
        "#### 1. its speed.\n",
        "#### 2. how it uses memory. \n",
        "\n",
        "when you make a list in python, say [1, 2, 3] for each element on the list a seperated object is created in the memory and it is saved. \n",
        "the list itself gets one seperated place and the objects have another. \n",
        "but in arrays (np arrays ) the array is a single object. \n",
        "This way reading from that array would also be much faster.\n",
        "( 28 bytes for every single object, eg.)"
      ],
      "metadata": {
        "id": "w0zugqNNEqCf"
      }
    },
    {
      "cell_type": "markdown",
      "source": [
        "# **Array**\n"
      ],
      "metadata": {
        "id": "gTF1kbCXNWKl"
      }
    },
    {
      "cell_type": "code",
      "execution_count": 1,
      "metadata": {
        "id": "4Z2gIijiD2Hr"
      },
      "outputs": [],
      "source": [
        "import numpy as np"
      ]
    },
    {
      "cell_type": "markdown",
      "source": [
        "in numpy there is only one type of data and that is array.\n",
        "every thing in numpy is done through arrays.\n",
        "\n",
        "https://numpy.org/doc/stable/reference/arrays.html\n",
        "\n",
        "Array objects\n",
        "NumPy provides an N-dimensional array type, the ndarray, which describes a collection of **“items” of the same type**. The items can be indexed using for example N integers.\n",
        "\n",
        "All ndarrays are homogeneous: every item takes up the same size block of memory, and all blocks are interpreted in exactly the same way. How each item in the array is to be interpreted is specified by a separate data-type object, one of which is associated with every array. In addition to basic types (integers, floats, etc.), the data type objects can also represent data structures.\n",
        "\n",
        "An item extracted from an array, e.g., by indexing, is represented by a Python object whose type is one of the array scalar types built in NumPy. The array scalars allow easy manipulation of also more complicated arrangements of data.\n",
        "\n",
        "\n",
        "**pay attention to the SAME TYPE**\n",
        "\n",
        "\n",
        "https://numpy.org/doc/stable/reference/generated/numpy.array.html\n",
        "\n",
        "numpy.array(object, dtype=None, *, copy=True, order='K', subok=False, ndmin=0, like=None)"
      ],
      "metadata": {
        "id": "pi24tZEHNsQe"
      }
    },
    {
      "cell_type": "code",
      "source": [
        "sample_array = np.array(1) # for adding the items you can put them inside  []\n",
        "sample_array2 = np.array([1, 2, 3])"
      ],
      "metadata": {
        "id": "JZml2KZONmGz"
      },
      "execution_count": 8,
      "outputs": []
    },
    {
      "cell_type": "code",
      "source": [
        "sample_array"
      ],
      "metadata": {
        "colab": {
          "base_uri": "https://localhost:8080/"
        },
        "id": "b2-jxKiJTJIm",
        "outputId": "412b4d57-0eb3-499a-c266-95861e46da8f"
      },
      "execution_count": 9,
      "outputs": [
        {
          "output_type": "execute_result",
          "data": {
            "text/plain": [
              "array(1)"
            ]
          },
          "metadata": {},
          "execution_count": 9
        }
      ]
    },
    {
      "cell_type": "code",
      "source": [
        "sample_array2"
      ],
      "metadata": {
        "colab": {
          "base_uri": "https://localhost:8080/"
        },
        "id": "8cvQJRIQS9PT",
        "outputId": "36489b75-3de4-40ef-ec2e-442748541c47"
      },
      "execution_count": 10,
      "outputs": [
        {
          "output_type": "execute_result",
          "data": {
            "text/plain": [
              "array([1, 2, 3])"
            ]
          },
          "metadata": {},
          "execution_count": 10
        }
      ]
    },
    {
      "cell_type": "code",
      "source": [
        "type(sample_array2)"
      ],
      "metadata": {
        "colab": {
          "base_uri": "https://localhost:8080/"
        },
        "id": "KDHJhV3LTMPe",
        "outputId": "f4281e6d-c5d5-4df0-87b1-3cc102392550"
      },
      "execution_count": 11,
      "outputs": [
        {
          "output_type": "execute_result",
          "data": {
            "text/plain": [
              "numpy.ndarray"
            ]
          },
          "metadata": {},
          "execution_count": 11
        }
      ]
    },
    {
      "cell_type": "code",
      "source": [
        "type(sample_array)"
      ],
      "metadata": {
        "colab": {
          "base_uri": "https://localhost:8080/"
        },
        "id": "xuQ5aASCTT2C",
        "outputId": "191eb6b3-878c-4ffc-f230-9db297806a92"
      },
      "execution_count": 12,
      "outputs": [
        {
          "output_type": "execute_result",
          "data": {
            "text/plain": [
              "numpy.ndarray"
            ]
          },
          "metadata": {},
          "execution_count": 12
        }
      ]
    },
    {
      "cell_type": "code",
      "source": [
        "\"\"\"\n",
        "np.array([1, 2, 3]) is a 1D array, since it has no depth. \n",
        "how to se the dimension:\"\"\"\n",
        "sample_array2.ndim"
      ],
      "metadata": {
        "colab": {
          "base_uri": "https://localhost:8080/"
        },
        "id": "M6X3yVyXTb8M",
        "outputId": "a4f49427-c430-4dbf-c609-8cd247200883"
      },
      "execution_count": 13,
      "outputs": [
        {
          "output_type": "execute_result",
          "data": {
            "text/plain": [
              "1"
            ]
          },
          "metadata": {},
          "execution_count": 13
        }
      ]
    },
    {
      "cell_type": "code",
      "source": [
        "# let's add dimension by 1:\n",
        "s_array = np.array([\n",
        "    [1],\n",
        "    [2],\n",
        "    [3]\n",
        "])"
      ],
      "metadata": {
        "id": "WQnj25gWVBX2"
      },
      "execution_count": 14,
      "outputs": []
    },
    {
      "cell_type": "code",
      "source": [
        "s_array.ndim"
      ],
      "metadata": {
        "colab": {
          "base_uri": "https://localhost:8080/"
        },
        "id": "m92onXfWVQHs",
        "outputId": "54f4bcca-aa05-486f-e92b-b2270105c2de"
      },
      "execution_count": 15,
      "outputs": [
        {
          "output_type": "execute_result",
          "data": {
            "text/plain": [
              "2"
            ]
          },
          "metadata": {},
          "execution_count": 15
        }
      ]
    },
    {
      "cell_type": "code",
      "source": [
        "s_array2 = np.array([\n",
        "    [[1]],\n",
        "    [[2]]\n",
        "])"
      ],
      "metadata": {
        "id": "xXud2G8lVSVC"
      },
      "execution_count": 16,
      "outputs": []
    },
    {
      "cell_type": "code",
      "source": [
        "s_array2"
      ],
      "metadata": {
        "colab": {
          "base_uri": "https://localhost:8080/"
        },
        "id": "4Qe8aNEdVhOL",
        "outputId": "ac656b60-ff3a-49a6-b509-2f74d7792d90"
      },
      "execution_count": 17,
      "outputs": [
        {
          "output_type": "execute_result",
          "data": {
            "text/plain": [
              "array([[[1]],\n",
              "\n",
              "       [[2]]])"
            ]
          },
          "metadata": {},
          "execution_count": 17
        }
      ]
    },
    {
      "cell_type": "code",
      "source": [
        "s_array2.ndim\n"
      ],
      "metadata": {
        "colab": {
          "base_uri": "https://localhost:8080/"
        },
        "id": "5nE65wQaVjJr",
        "outputId": "0bd65c78-0877-419d-f96e-c2d0263bc8fc"
      },
      "execution_count": 18,
      "outputs": [
        {
          "output_type": "execute_result",
          "data": {
            "text/plain": [
              "3"
            ]
          },
          "metadata": {},
          "execution_count": 18
        }
      ]
    },
    {
      "cell_type": "code",
      "source": [
        "# the dim is not the number of items, it's about the depth \n",
        "# how many times they are inside. []"
      ],
      "metadata": {
        "id": "D4qyj3DEVlHG"
      },
      "execution_count": 19,
      "outputs": []
    },
    {
      "cell_type": "code",
      "source": [
        "# if we don't add any bruckets and give a number directly it is a 0 dim array\n",
        "sample_array.ndim"
      ],
      "metadata": {
        "colab": {
          "base_uri": "https://localhost:8080/"
        },
        "id": "En0HylZtVx5F",
        "outputId": "2391418b-dd78-4a11-9170-514067123c2e"
      },
      "execution_count": 20,
      "outputs": [
        {
          "output_type": "execute_result",
          "data": {
            "text/plain": [
              "0"
            ]
          },
          "metadata": {},
          "execution_count": 20
        }
      ]
    },
    {
      "cell_type": "code",
      "source": [
        "\n",
        "# so the dim is all about the depth of the bruckets.\n",
        "s_array3 = np.array([\n",
        "    [1,2],\n",
        "    [2,3],\n",
        "    [3,4],\n",
        "    [4,4],\n",
        "    [5,0]\n",
        "])"
      ],
      "metadata": {
        "id": "u2wxIRoZWAjt"
      },
      "execution_count": 21,
      "outputs": []
    },
    {
      "cell_type": "code",
      "source": [
        "s_array3.ndim"
      ],
      "metadata": {
        "colab": {
          "base_uri": "https://localhost:8080/"
        },
        "id": "BU-E90WqWcAO",
        "outputId": "7c05de85-9113-43e2-e4c5-e48510efe058"
      },
      "execution_count": 22,
      "outputs": [
        {
          "output_type": "execute_result",
          "data": {
            "text/plain": [
              "2"
            ]
          },
          "metadata": {},
          "execution_count": 22
        }
      ]
    },
    {
      "cell_type": "code",
      "source": [
        "# now if wanna know about the items and how many they are we use shape\n",
        "s_array3.shape"
      ],
      "metadata": {
        "colab": {
          "base_uri": "https://localhost:8080/"
        },
        "id": "osHOdHt1Werh",
        "outputId": "67eff499-ed52-493d-8e59-27e939fa0b24"
      },
      "execution_count": 24,
      "outputs": [
        {
          "output_type": "execute_result",
          "data": {
            "text/plain": [
              "(5, 2)"
            ]
          },
          "metadata": {},
          "execution_count": 24
        }
      ]
    },
    {
      "cell_type": "code",
      "source": [
        "s_array2.shape"
      ],
      "metadata": {
        "colab": {
          "base_uri": "https://localhost:8080/"
        },
        "id": "g9Jk_krPWrUy",
        "outputId": "33cfca02-c4e5-4d2c-d26b-e58d961b2d26"
      },
      "execution_count": 25,
      "outputs": [
        {
          "output_type": "execute_result",
          "data": {
            "text/plain": [
              "(2, 1, 1)"
            ]
          },
          "metadata": {},
          "execution_count": 25
        }
      ]
    },
    {
      "cell_type": "code",
      "source": [
        "# shape sbows the number of the rows and columns of that array\n",
        "s_array3\n",
        "# for example for this (5, 2) means it has 5 rows and 2 columns"
      ],
      "metadata": {
        "colab": {
          "base_uri": "https://localhost:8080/"
        },
        "id": "ByNA_g1zWwUr",
        "outputId": "543f83a3-e015-47d1-a370-7eb2206ac2f6"
      },
      "execution_count": 26,
      "outputs": [
        {
          "output_type": "execute_result",
          "data": {
            "text/plain": [
              "array([[1, 2],\n",
              "       [2, 3],\n",
              "       [3, 4],\n",
              "       [4, 4],\n",
              "       [5, 0]])"
            ]
          },
          "metadata": {},
          "execution_count": 26
        }
      ]
    },
    {
      "cell_type": "code",
      "source": [
        "# shape works based on dimensions or axis\n",
        " "
      ],
      "metadata": {
        "id": "C0F69nRjXHNB"
      },
      "execution_count": null,
      "outputs": []
    }
  ]
}